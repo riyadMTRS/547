{
  "cells": [
    {
      "cell_type": "markdown",
      "metadata": {
        "id": "view-in-github",
        "colab_type": "text"
      },
      "source": [
        "<a href=\"https://colab.research.google.com/github/riyadMTRS/547/blob/main/examples/Search_grounding_for_research_report.ipynb\" target=\"_parent\"><img src=\"https://colab.research.google.com/assets/colab-badge.svg\" alt=\"Open In Colab\"/></a>"
      ]
    },
    {
      "cell_type": "markdown",
      "metadata": {
        "id": "lb5yiH5h8x3h"
      },
      "source": [
        "##### Copyright 2025 Google LLC."
      ]
    },
    {
      "cell_type": "code",
      "execution_count": 4,
      "metadata": {
        "cellView": "form",
        "id": "906e07f6e562"
      },
      "outputs": [],
      "source": [
        "# @title Licensed under the Apache License, Version 2.0 (the \"License\");\n",
        "# you may not use this file except in compliance with the License.\n",
        "# You may obtain a copy of the License at\n",
        "#\n",
        "# https://www.apache.org/licenses/LICENSE-2.0\n",
        "#\n",
        "# Unless required by applicable law or agreed to in writing, software\n",
        "# distributed under the License is distributed on an \"AS IS\" BASIS,\n",
        "# WITHOUT WARRANTIES OR CONDITIONS OF ANY KIND, either express or implied.\n",
        "# See the License for the specific language governing permissions and\n",
        "# limitations under the License."
      ]
    },
    {
      "cell_type": "markdown",
      "metadata": {
        "id": "1YXR7Yn480fU"
      },
      "source": [
        "# Search tool with Gemini 2.0"
      ]
    },
    {
      "cell_type": "markdown",
      "metadata": {
        "id": "CeJyB7rG82ph"
      },
      "source": [
        "<a target=\"_blank\" href=\"https://colab.research.google.com/github/google-gemini/cookbook/blob/main/examples/Search_grounding_for_research_report.ipynb\"><img src=\"https://colab.research.google.com/assets/colab-badge.svg\" height=30/></a>"
      ]
    },
    {
      "cell_type": "markdown",
      "metadata": {
        "id": "___eV40o8399"
      },
      "source": [
        "In this tutorial you are going to leverage the latest [search tool](https://ai.google.dev/gemini-api/docs/models/gemini-v2#search-tool) of the Gemini 2.0 model to write a company report. Note that the search tool is a paid ony feature and this tutorial does not work with a free tier API key.\n",
        "\n",
        "You may be asking, why does one need to use the search tool for this purpose? Well, as you may be aware, today's business world evolves very fast and LLMs generally are not trained frequently enough to capture the latest updates. Luckily Google search comes to the rescue. Google search is built to provide accurate and nearly realtime information and can help us fulfill this task perfectly.\n",
        "\n",
        "Note that while Gemini 1.5 models offered the [search grounding](https://ai.google.dev/gemini-api/docs/grounding) feature which may also help you achieve similar results (see [a previous notebook](https://github.com/google-gemini/cookbook/blob/gemini-1.5-archive/examples/Search_grounding_for_research_report.ipynb) using search grounding), the new search tool in Gemini 2.0 models is much more powerful and easier to use, and should be prioritized over search grounding. It is also possible to use multiple tools together (for example, search tool and function calling)."
      ]
    },
    {
      "cell_type": "markdown",
      "metadata": {
        "id": "Mfk6YY3G5kqp"
      },
      "source": [
        "## Setup"
      ]
    },
    {
      "cell_type": "markdown",
      "metadata": {
        "id": "d5027929de8f"
      },
      "source": [
        "### Install SDK\n",
        "\n",
        "The new **[Google Gen AI SDK](https://ai.google.dev/gemini-api/docs/sdks)** provides programmatic access to Gemini 2.0 (and previous models) using both the [Google AI for Developers](https://ai.google.dev/gemini-api/docs) and [Vertex AI](https://cloud.google.com/vertex-ai/generative-ai/docs/overview) APIs. With a few exceptions, code that runs on one platform will run on both. This means that you can prototype an application using the Developer API and then migrate the application to Vertex AI without rewriting your code.\n",
        "\n",
        "More details about this new SDK on the [documentation](https://ai.google.dev/gemini-api/docs/sdks) or in the [Getting started](../quickstarts/Get_started.ipynb) notebook."
      ]
    },
    {
      "cell_type": "code",
      "execution_count": 5,
      "metadata": {
        "id": "46zEFO2a9FFd"
      },
      "outputs": [],
      "source": [
        "%pip install -U -q google-genai"
      ]
    },
    {
      "cell_type": "markdown",
      "metadata": {
        "id": "CTIfnvCn9HvH"
      },
      "source": [
        "### Setup your API key\n",
        "\n",
        "To run the following cell, your API key must be stored it in a Colab Secret named `GOOGLE_API_KEY`. If you don't already have an API key, or you're not sure how to create a Colab Secret, see [Authentication](../quickstarts/Authentication.ipynb) for an example."
      ]
    },
    {
      "cell_type": "code",
      "execution_count": 6,
      "metadata": {
        "id": "A1pkoyZb9Jm3"
      },
      "outputs": [],
      "source": [
        "from google.colab import userdata\n",
        "\n",
        "GOOGLE_API_KEY=userdata.get('GOOGLE_API_KEY')"
      ]
    },
    {
      "cell_type": "markdown",
      "source": [],
      "metadata": {
        "id": "CXZhHby0saA6"
      }
    },
    {
      "cell_type": "markdown",
      "source": [],
      "metadata": {
        "id": "R8g3htZ2sZ9g"
      }
    },
    {
      "cell_type": "markdown",
      "source": [],
      "metadata": {
        "id": "sG_bDrcwsZ4V"
      }
    },
    {
      "cell_type": "markdown",
      "metadata": {
        "id": "QclzsisW0nTK"
      },
      "source": [
        "### Import the libraries"
      ]
    },
    {
      "cell_type": "code",
      "execution_count": 7,
      "metadata": {
        "id": "cXNAAIqOuXlO"
      },
      "outputs": [],
      "source": [
        "from google import genai\n",
        "from google.genai.types import GenerateContentConfig, Tool\n",
        "from IPython.display import display, HTML, Markdown\n",
        "import io\n",
        "import json\n",
        "import re"
      ]
    },
    {
      "cell_type": "markdown",
      "metadata": {
        "id": "3Hx_Gw9i0Yuv"
      },
      "source": [
        "### Initialize SDK client\n",
        "\n",
        "With the new SDK you now only need to initialize a client with you API key (or OAuth if using [Vertex AI](https://cloud.google.com/vertex-ai)). The model is now set in each call."
      ]
    },
    {
      "cell_type": "code",
      "execution_count": 8,
      "metadata": {
        "id": "HghvVpbU0Uap"
      },
      "outputs": [],
      "source": [
        "client = genai.Client(api_key=GOOGLE_API_KEY)"
      ]
    },
    {
      "cell_type": "markdown",
      "metadata": {
        "id": "QOov6dpG99rY"
      },
      "source": [
        "### Select a model\n",
        "\n",
        "Search tool is a new feature in the Gemini 2.0 model that automatically retrieves accurate and grounded artifacts from the web for developers to further process. Unlike the search grounding in the Gemini 1.5 models, you do not need to set the dynamic retrieval threshold.\n",
        "\n",
        "For more information about all Gemini models, check the [documentation](https://ai.google.dev/gemini-api/docs/models/gemini) for extended information on each of them.\n"
      ]
    },
    {
      "cell_type": "code",
      "execution_count": 9,
      "metadata": {
        "id": "27Fikag0xSaB"
      },
      "outputs": [],
      "source": [
        "MODEL_ID = \"gemini-2.5-flash\" # @param [\"gemini-1.5-flash-latest\",\"gemini-2.5-flash-lite-preview-06-17\",\"gemini-2.5-flash\",\"gemini-2.5-pro\"] {\"allow-input\":true}"
      ]
    },
    {
      "cell_type": "markdown",
      "metadata": {
        "id": "F9lFY3h6unY2"
      },
      "source": [
        "## Write the report with Gemini 2.0"
      ]
    },
    {
      "cell_type": "markdown",
      "metadata": {
        "id": "j562CvvWvASd"
      },
      "source": [
        "### Select a target company to research\n",
        "\n",
        "Next you will use Alphabet as an example research target."
      ]
    },
    {
      "cell_type": "code",
      "execution_count": 10,
      "metadata": {
        "id": "7UQxJr7UvEhl"
      },
      "outputs": [],
      "source": [
        "COMPANY = 'Alphabet' # @param {type:\"string\"}"
      ]
    },
    {
      "cell_type": "markdown",
      "metadata": {
        "id": "HALOE8He78H1"
      },
      "source": [
        "### Have Gemini 2.0 plan for the task and write the report\n",
        "\n",
        "Gemini 2.0 is a huge step up from previous models since it can reason, plan, search and write in one go. In this case, you will only give Gemini 2.0 a prompt to do all of these and the model will finish your task seamlessly. You will also using output streaming, which streams the response as it is being generated, and the model will return chunks of the response as soon as they are generated. If you would like the SDK to return a response after the model completes the entire generation process,  you can use the non-streaming approach as well.\n",
        "\n",
        "Note that you must enable Google Search Suggestions, which help users find search results corresponding to a grounded response, and [display the search queries](https://ai.google.dev/gemini-api/docs/grounding/search-suggestions#display-requirements) that are included in the grounded response's metadata. You can find [more details](https://ai.google.dev/gemini-api/terms#grounding-with-google-search) about this requirement."
      ]
    },
    {
      "cell_type": "code",
      "execution_count": 13,
      "metadata": {
        "id": "IAl2UGtw0LPG",
        "colab": {
          "base_uri": "https://localhost:8080/",
          "height": 1000
        },
        "outputId": "11e65daa-8d6b-4daf-8bda-55fb3a3f73b7"
      },
      "outputs": [
        {
          "output_type": "display_data",
          "data": {
            "text/plain": [
              "<IPython.core.display.Markdown object>"
            ],
            "text/markdown": "---\n**Alphabet Inc. Company Report**\n\nAlphabet Inc"
          },
          "metadata": {}
        },
        {
          "output_type": "display_data",
          "data": {
            "text/plain": [
              "<IPython.core.display.Markdown object>"
            ],
            "text/markdown": ". is an American multinational technology conglomerate holding company headquartered in Mountain View, California. Established on October 2, 2015, through a restructuring of Google, Alphabet serves as the parent company for Google and several other diverse"
          },
          "metadata": {}
        },
        {
          "output_type": "display_data",
          "data": {
            "text/plain": [
              "<IPython.core.display.Markdown object>"
            ],
            "text/markdown": " subsidiaries. This restructuring aimed to enhance accountability for Google's core business and provide greater autonomy to other ventures. Alphabet is recognized as one of the world's most valuable companies"
          },
          "metadata": {}
        },
        {
          "output_type": "display_data",
          "data": {
            "text/plain": [
              "<IPython.core.display.Markdown object>"
            ],
            "text/markdown": " and ranks among the top technology companies globally by revenue and profit.\n\n**Leadership:**\nSundar Pichai serves as the Chief Executive Officer (CEO) of both Alphabet and its largest subsidiary, Google. Larry Page and Sergey Brin, the co-founders of Google, stepped down from executive roles in December 2019 but remain actively involved as employees, board members, and controlling shareholders of Alphabet. The leadership team also includes John L. Hennessy as Chairman, Ruth Porat as President and Chief Investment Officer, and Anat Ashkenazi as Chief Financial Officer.\n\n**Business Segments and Key Products:**\nAlphabet's operations are primarily divided into three segments:\n*   **Google Services:** This is the largest revenue-generating segment, encompassing Google's core search and advertising businesses"
          },
          "metadata": {}
        },
        {
          "output_type": "display_data",
          "data": {
            "text/plain": [
              "<IPython.core.display.Markdown object>"
            ],
            "text/markdown": ", Android, Chrome, Google Maps, Google Play, and YouTube. Advertising remains the primary source of revenue for Alphabet.\n*   **Google Cloud:** This segment provides enterprise-level"
          },
          "metadata": {}
        },
        {
          "output_type": "display_data",
          "data": {
            "text/plain": [
              "<IPython.core.display.Markdown object>"
            ],
            "text/markdown": " cloud computing services, including Google Cloud Platform (GCP) and Google Workspace (cloud-based communication and collaboration tools).\n*   **Other Bets:** This segment includes Alphabet's emerging and"
          },
          "metadata": {}
        },
        {
          "output_type": "display_data",
          "data": {
            "text/plain": [
              "<IPython.core.display.Markdown object>"
            ],
            "text/markdown": " speculative ventures, such as Waymo (self-driving technology), Calico (biotechnology research), Verily (life sciences), Wing (drone delivery), CapitalG (private equity), GV (venture capital), and Isomorphic Labs (AI drug"
          },
          "metadata": {}
        },
        {
          "output_type": "display_data",
          "data": {
            "text/plain": [
              "<IPython.core.display.Markdown object>"
            ],
            "text/markdown": " discovery).\n\n**Financial Performance:**\nAs of June 17, 2025, Alphabet's market capitalization stands at approximately $2.12 trillion to"
          },
          "metadata": {}
        },
        {
          "output_type": "display_data",
          "data": {
            "text/plain": [
              "<IPython.core.display.Markdown object>"
            ],
            "text/markdown": " $2.15 trillion USD.\n\nRecent financial highlights include:\n*   **Annual Revenue:** Alphabet's annual revenue for 2024 was $3"
          },
          "metadata": {}
        },
        {
          "output_type": "display_data",
          "data": {
            "text/plain": [
              "<IPython.core.display.Markdown object>"
            ],
            "text/markdown": "50.018 billion, marking a 13.87% increase from 2023.\n*   **Q4 2024 Results:** Consolidated revenues in Q4 2024 increased"
          },
          "metadata": {}
        },
        {
          "output_type": "display_data",
          "data": {
            "text/plain": [
              "<IPython.core.display.Markdown object>"
            ],
            "text/markdown": " 12% year-over-year to $96.5 billion. Google Services revenues grew 10% to $84.1 billion, and Google Cloud revenues increased 30% to $12.0 billion. Net"
          },
          "metadata": {}
        },
        {
          "output_type": "display_data",
          "data": {
            "text/plain": [
              "<IPython.core.display.Markdown object>"
            ],
            "text/markdown": " income increased 28%.\n*   **Q1 2025 Results:** Consolidated revenues in Q1 2025 increased 12% year-over-year to $90.2 billion. Google Services revenues reached $77.3 billion, and Google Cloud revenues increased 28% to $12.3 billion. Net income saw a significant 46%"
          },
          "metadata": {}
        },
        {
          "output_type": "display_data",
          "data": {
            "text/plain": [
              "<IPython.core.display.Markdown object>"
            ],
            "text/markdown": " increase to $34.5 billion, with the operating margin expanding to 34%.\n*   **Shareholder Returns:** In Q1 2025, Alphabet announced a "
          },
          "metadata": {}
        },
        {
          "output_type": "display_data",
          "data": {
            "text/plain": [
              "<IPython.core.display.Markdown object>"
            ],
            "text/markdown": "5% increase to its dividend, resulting in a quarterly cash dividend of $0.21, and authorized a $70 billion share buyback.\n\n**Recent Developments:**\nAlphabet's recent"
          },
          "metadata": {}
        },
        {
          "output_type": "display_data",
          "data": {
            "text/plain": [
              "<IPython.core.display.Markdown object>"
            ],
            "text/markdown": " focus has been heavily on artificial intelligence (AI), with strong Q1 2025 results attributed to its leadership in AI and momentum across its businesses. The company plans to invest approximately $75 billion in capital"
          },
          "metadata": {}
        },
        {
          "output_type": "display_data",
          "data": {
            "text/plain": [
              "<IPython.core.display.Markdown object>"
            ],
            "text/markdown": " expenditures in 2025, primarily to expand its AI infrastructure and capabilities. Key AI product developments include the rollout of Gemini 2.5.\n\nThe company is currently"
          },
          "metadata": {}
        },
        {
          "output_type": "display_data",
          "data": {
            "text/plain": [
              "<IPython.core.display.Markdown object>"
            ],
            "text/markdown": " navigating significant antitrust challenges, particularly concerning its dominant search engine and advertising business. The U.S. Justice Department is seeking substantial changes, including a potential ban on Google paying to be the default search engine and a requirement to sell its Chrome browser."
          },
          "metadata": {}
        },
        {
          "output_type": "display_data",
          "data": {
            "text/plain": [
              "<IPython.core.display.Markdown object>"
            ],
            "text/markdown": " In March 2025, Google announced an agreement to acquire cybersecurity firm Wiz.\n\n**Market Position and Competitors:**\nAlphabet is a key player among the \"Big Five\" American information technology companies, alongside Amazon,"
          },
          "metadata": {}
        },
        {
          "output_type": "display_data",
          "data": {
            "text/plain": [
              "<IPython.core.display.Markdown object>"
            ],
            "text/markdown": " Apple, Meta, and Microsoft.\n*   In **search**, Google maintains a dominant market share, competing primarily with Microsoft's Bing.\n*   **Google Cloud** competes"
          },
          "metadata": {}
        },
        {
          "output_type": "display_data",
          "data": {
            "text/plain": [
              "<IPython.core.display.Markdown object>"
            ],
            "text/markdown": " with major cloud service providers like Amazon Web Services (AWS) and Microsoft Azure.\n*   In **hardware and smart home devices**, Alphabet competes with Apple (iPhone, HomePod) and Amazon (Echo devices)."
          },
          "metadata": {}
        },
        {
          "output_type": "display_data",
          "data": {
            "text/plain": [
              "<IPython.core.display.Markdown object>"
            ],
            "text/markdown": "\n*   Its **digital advertising** business faces competition from Amazon.com, The Trade Desk, and Criteo.\n*   **YouTube** competes with streaming media platforms such as Netflix and Amazon"
          },
          "metadata": {}
        },
        {
          "output_type": "display_data",
          "data": {
            "text/plain": [
              "<IPython.core.display.Markdown object>"
            ],
            "text/markdown": ".com.\n*   **Waymo** in the self-driving car sector competes with companies like Tesla and Uber."
          },
          "metadata": {}
        },
        {
          "output_type": "display_data",
          "data": {
            "text/plain": [
              "<IPython.core.display.HTML object>"
            ],
            "text/html": [
              "<style>\n",
              ".container {\n",
              "  align-items: center;\n",
              "  border-radius: 8px;\n",
              "  display: flex;\n",
              "  font-family: Google Sans, Roboto, sans-serif;\n",
              "  font-size: 14px;\n",
              "  line-height: 20px;\n",
              "  padding: 8px 12px;\n",
              "}\n",
              ".chip {\n",
              "  display: inline-block;\n",
              "  border: solid 1px;\n",
              "  border-radius: 16px;\n",
              "  min-width: 14px;\n",
              "  padding: 5px 16px;\n",
              "  text-align: center;\n",
              "  user-select: none;\n",
              "  margin: 0 8px;\n",
              "  -webkit-tap-highlight-color: transparent;\n",
              "}\n",
              ".carousel {\n",
              "  overflow: auto;\n",
              "  scrollbar-width: none;\n",
              "  white-space: nowrap;\n",
              "  margin-right: -12px;\n",
              "}\n",
              ".headline {\n",
              "  display: flex;\n",
              "  margin-right: 4px;\n",
              "}\n",
              ".gradient-container {\n",
              "  position: relative;\n",
              "}\n",
              ".gradient {\n",
              "  position: absolute;\n",
              "  transform: translate(3px, -9px);\n",
              "  height: 36px;\n",
              "  width: 9px;\n",
              "}\n",
              "@media (prefers-color-scheme: light) {\n",
              "  .container {\n",
              "    background-color: #fafafa;\n",
              "    box-shadow: 0 0 0 1px #0000000f;\n",
              "  }\n",
              "  .headline-label {\n",
              "    color: #1f1f1f;\n",
              "  }\n",
              "  .chip {\n",
              "    background-color: #ffffff;\n",
              "    border-color: #d2d2d2;\n",
              "    color: #5e5e5e;\n",
              "    text-decoration: none;\n",
              "  }\n",
              "  .chip:hover {\n",
              "    background-color: #f2f2f2;\n",
              "  }\n",
              "  .chip:focus {\n",
              "    background-color: #f2f2f2;\n",
              "  }\n",
              "  .chip:active {\n",
              "    background-color: #d8d8d8;\n",
              "    border-color: #b6b6b6;\n",
              "  }\n",
              "  .logo-dark {\n",
              "    display: none;\n",
              "  }\n",
              "  .gradient {\n",
              "    background: linear-gradient(90deg, #fafafa 15%, #fafafa00 100%);\n",
              "  }\n",
              "}\n",
              "@media (prefers-color-scheme: dark) {\n",
              "  .container {\n",
              "    background-color: #1f1f1f;\n",
              "    box-shadow: 0 0 0 1px #ffffff26;\n",
              "  }\n",
              "  .headline-label {\n",
              "    color: #fff;\n",
              "  }\n",
              "  .chip {\n",
              "    background-color: #2c2c2c;\n",
              "    border-color: #3c4043;\n",
              "    color: #fff;\n",
              "    text-decoration: none;\n",
              "  }\n",
              "  .chip:hover {\n",
              "    background-color: #353536;\n",
              "  }\n",
              "  .chip:focus {\n",
              "    background-color: #353536;\n",
              "  }\n",
              "  .chip:active {\n",
              "    background-color: #464849;\n",
              "    border-color: #53575b;\n",
              "  }\n",
              "  .logo-light {\n",
              "    display: none;\n",
              "  }\n",
              "  .gradient {\n",
              "    background: linear-gradient(90deg, #1f1f1f 15%, #1f1f1f00 100%);\n",
              "  }\n",
              "}\n",
              "</style>\n",
              "<div class=\"container\">\n",
              "  <div class=\"headline\">\n",
              "    <svg class=\"logo-light\" width=\"18\" height=\"18\" viewBox=\"9 9 35 35\" fill=\"none\" xmlns=\"http://www.w3.org/2000/svg\">\n",
              "      <path fill-rule=\"evenodd\" clip-rule=\"evenodd\" d=\"M42.8622 27.0064C42.8622 25.7839 42.7525 24.6084 42.5487 23.4799H26.3109V30.1568H35.5897C35.1821 32.3041 33.9596 34.1222 32.1258 35.3448V39.6864H37.7213C40.9814 36.677 42.8622 32.2571 42.8622 27.0064V27.0064Z\" fill=\"#4285F4\"/>\n",
              "      <path fill-rule=\"evenodd\" clip-rule=\"evenodd\" d=\"M26.3109 43.8555C30.9659 43.8555 34.8687 42.3195 37.7213 39.6863L32.1258 35.3447C30.5898 36.3792 28.6306 37.0061 26.3109 37.0061C21.8282 37.0061 18.0195 33.9811 16.6559 29.906H10.9194V34.3573C13.7563 39.9841 19.5712 43.8555 26.3109 43.8555V43.8555Z\" fill=\"#34A853\"/>\n",
              "      <path fill-rule=\"evenodd\" clip-rule=\"evenodd\" d=\"M16.6559 29.8904C16.3111 28.8559 16.1074 27.7588 16.1074 26.6146C16.1074 25.4704 16.3111 24.3733 16.6559 23.3388V18.8875H10.9194C9.74388 21.2072 9.06992 23.8247 9.06992 26.6146C9.06992 29.4045 9.74388 32.022 10.9194 34.3417L15.3864 30.8621L16.6559 29.8904V29.8904Z\" fill=\"#FBBC05\"/>\n",
              "      <path fill-rule=\"evenodd\" clip-rule=\"evenodd\" d=\"M26.3109 16.2386C28.85 16.2386 31.107 17.1164 32.9095 18.8091L37.8466 13.8719C34.853 11.082 30.9659 9.3736 26.3109 9.3736C19.5712 9.3736 13.7563 13.245 10.9194 18.8875L16.6559 23.3388C18.0195 19.2636 21.8282 16.2386 26.3109 16.2386V16.2386Z\" fill=\"#EA4335\"/>\n",
              "    </svg>\n",
              "    <svg class=\"logo-dark\" width=\"18\" height=\"18\" viewBox=\"0 0 48 48\" xmlns=\"http://www.w3.org/2000/svg\">\n",
              "      <circle cx=\"24\" cy=\"23\" fill=\"#FFF\" r=\"22\"/>\n",
              "      <path d=\"M33.76 34.26c2.75-2.56 4.49-6.37 4.49-11.26 0-.89-.08-1.84-.29-3H24.01v5.99h8.03c-.4 2.02-1.5 3.56-3.07 4.56v.75l3.91 2.97h.88z\" fill=\"#4285F4\"/>\n",
              "      <path d=\"M15.58 25.77A8.845 8.845 0 0 0 24 31.86c1.92 0 3.62-.46 4.97-1.31l4.79 3.71C31.14 36.7 27.65 38 24 38c-5.93 0-11.01-3.4-13.45-8.36l.17-1.01 4.06-2.85h.8z\" fill=\"#34A853\"/>\n",
              "      <path d=\"M15.59 20.21a8.864 8.864 0 0 0 0 5.58l-5.03 3.86c-.98-2-1.53-4.25-1.53-6.64 0-2.39.55-4.64 1.53-6.64l1-.22 3.81 2.98.22 1.08z\" fill=\"#FBBC05\"/>\n",
              "      <path d=\"M24 14.14c2.11 0 4.02.75 5.52 1.98l4.36-4.36C31.22 9.43 27.81 8 24 8c-5.93 0-11.01 3.4-13.45 8.36l5.03 3.85A8.86 8.86 0 0 1 24 14.14z\" fill=\"#EA4335\"/>\n",
              "    </svg>\n",
              "    <div class=\"gradient-container\"><div class=\"gradient\"></div></div>\n",
              "  </div>\n",
              "  <div class=\"carousel\">\n",
              "    <a class=\"chip\" href=\"https://vertexaisearch.cloud.google.com/grounding-api-redirect/AUZIYQFSApHunU03zupq7Qn2fD9Tcqbs0r6Lg67BSKVZPyVczqaCX2x0BAl0FC9M7TpA8jBXIK-yhgMObl8OHZ6bVhTMJCg6h7cKUU1WVrTUgLMSjIyARYpXmMlJxR2YwzWLoImgCGZkDBdb_Mqia9VkJMJfnt1EIweOYD8gzY9o2SGEqEdvL-gzfNwJQ08_KG0CrS0tMbeQGXkmuC4xiXjxOBx8dEQPCu5UtcPsnkE=\">Alphabet Inc. main products and services</a>\n",
              "    <a class=\"chip\" href=\"https://vertexaisearch.cloud.google.com/grounding-api-redirect/AUZIYQHCLfgxSV-p6vB6obL-dlV9NEim5MIe2lhu6fq0lzeBT6tQkpc-aXpuI5txusKl1I1Xy9Y6ZDfii-DU9BxoKekG1wqgkMe3M2h73CQh6MmMQ89_zImKHVGocqRFqLo0QeWG_gGoFIpczWaHoZ6x71IWmCB4PTeAusTb-SWcQCXcDf8VYIXhmBkDz2qqVk-_TdVuSAeR3H-TpjvImPqEzHwb0G7OXgu9csxYzPvXQUMklw==\">Alphabet Inc. revenue and profit 2023 2024 Q1</a>\n",
              "    <a class=\"chip\" href=\"https://vertexaisearch.cloud.google.com/grounding-api-redirect/AUZIYQEEAqhOJfLAJ9L3uTKSwZ5FQ64sjSuc-tYMlsolAZzgXRm5_yQePYxxibvxvj6OYCLF1RqtXbTsE8lPCNs4Q7ngPTcOh4E2CxBDvGiNyeGvEf-igJ-HI1MpvRI8u6oeNneyW248nbhxH0M3ZU_VhTRyytSM2GNE8M0tkNgdAY_vf-YmSrx2CEaH0917stmWlB3Q4N-jdL3wy5upc6feOnYc\">Alphabet Inc. company profile</a>\n",
              "    <a class=\"chip\" href=\"https://vertexaisearch.cloud.google.com/grounding-api-redirect/AUZIYQE_DIDtD6U5QP8U2WaNJOb6vMFFNOy__4dckaS9cVd8NzKkQ200INORrN2YjPArw0brwUdfi2CA6UZZvx07NVpsLUhif9B6gxiCislqm4kt5TVyBGEaIcUnV8H3BLo7InozriLCcc5O4C-mXejbQb-T9OduInk9T52ZlIgK5ed7pQTMx9HyK7rAXPCNCIuRqbkkUpZUv3NOERob8plPOYVHmvMRgAoZ\">Alphabet Inc. market capitalization</a>\n",
              "    <a class=\"chip\" href=\"https://vertexaisearch.cloud.google.com/grounding-api-redirect/AUZIYQEzUWDGRkx6jlhCwDZZ2g9phbBfgmnS6iv5_HGCVjLe2oljoQPEcSMJMGQlI2Wsn-3fT88gwjCeF_lwpRgOuxH03LPJXPZVvs4eeWSqoH0UE5x1Q0kKvWfUysQdqxSa5Dt73j65160VGSyzlAKJ1S_f1OO-SmPulBZp-EZNcY08SHgatDYs82OD5Wlx88td8hAg2PoRUN0P_tmYbmGa0x7OchBBrfxwOIdXSsaX2Q==\">Alphabet Inc. recent news and developments</a>\n",
              "    <a class=\"chip\" href=\"https://vertexaisearch.cloud.google.com/grounding-api-redirect/AUZIYQG1sIJtX1fF2uEZUHFmKsc8o5gNHBqyfDsR35X-_-f_bAbUHBqkea1XkcFLRUdEIrw1ErQxQDs7js021MXjo7bmpjbMxvoAxBqFer-A1WwGqsC5lSPhDrzoLpLxhoc4ozZTsSKtZKcrqkOtCj9iPPb_5gMIEfSl7GMVHxRjeGc1HU6iVcicnvKVOZxYHMVigTpYyBnu8wqdSnn9fA==\">Alphabet Inc. leadership</a>\n",
              "    <a class=\"chip\" href=\"https://vertexaisearch.cloud.google.com/grounding-api-redirect/AUZIYQHaaJSbbUDMUYKWmgxMD7WZ88R1o_7s72PfJ3Uj171kJvob8IRjaebN9MFSSDa1-HGP-MFLNVSnQf4eLZm8rxedFLSAck3HYpZ3XobPowm5eJAEp6RYUo0mrgbrKc_TKhk6ekVpH0-jAB-G3__xZPqT-F40Rh_lE92ZMslne9u1-ZcsXmRrB8fWKjsfW3qreh4eYe9wybjPaBDm22c=\">Alphabet Inc. competitors</a>\n",
              "  </div>\n",
              "</div>\n"
            ]
          },
          "metadata": {}
        }
      ],
      "source": [
        "sys_instruction = \"\"\"You are an analyst that conducts company research.\n",
        "You are given a company name, and you will work on a company report. You have access\n",
        "to Google Search to look up company news, updates and metrics to write research reports.\n",
        "\n",
        "When given a company name, identify key aspects to research, look up that information\n",
        "and then write a concise company report.\n",
        "\n",
        "Feel free to plan your work and talk about it, but when you start writing the report,\n",
        "put a line of dashes (---) to demarcate the report itself, and say nothing else after\n",
        "the report has finished.\n",
        "\"\"\"\n",
        "\n",
        "config = GenerateContentConfig(system_instruction=sys_instruction, tools=[Tool(google_search={})], temperature=0)\n",
        "response_stream = client.models.generate_content_stream(\n",
        "    model=MODEL_ID, config=config, contents=[COMPANY])\n",
        "\n",
        "report = io.StringIO()\n",
        "for chunk in response_stream:\n",
        "  candidate = chunk.candidates[0]\n",
        "\n",
        "  for part in candidate.content.parts:\n",
        "    if part.text:\n",
        "      display(Markdown(part.text))\n",
        "\n",
        "      # Find and save the report itself.\n",
        "      if m := re.search('(^|\\n)-+\\n(.*)$', part.text, re.M):\n",
        "          # Find the starting '---' line and start saving.\n",
        "          report.write(m.group(2))\n",
        "      elif report.tell():\n",
        "        # If there's already something in the buffer, keep recording.\n",
        "        report.write(part.text)\n",
        "\n",
        "    else:\n",
        "      print(json.dumps(part.model_dump(exclude_none=True), indent=2))\n",
        "\n",
        "  # You must enable Google Search Suggestions\n",
        "  if gm := candidate.grounding_metadata:\n",
        "    if sep := gm.search_entry_point:\n",
        "      display(HTML(sep.rendered_content))"
      ]
    },
    {
      "cell_type": "markdown",
      "metadata": {
        "id": "e2gBbhEU-jCo"
      },
      "source": [
        "Very impressive! Gemini 2.0 starts by planning for the task, performing relevant searches and streams out a report for you."
      ]
    },
    {
      "cell_type": "markdown",
      "metadata": {
        "id": "P_JoMFa18Rss"
      },
      "source": [
        "### Final output\n",
        "\n",
        "Render the final output."
      ]
    },
    {
      "cell_type": "code",
      "execution_count": null,
      "metadata": {
        "id": "1yddCUCL4yKA"
      },
      "outputs": [],
      "source": [
        "display(Markdown(report.getvalue().replace('$', r'\\$')))  # Escape $ signs for better MD rendering\n",
        "display(HTML(sep.rendered_content))"
      ]
    },
    {
      "cell_type": "markdown",
      "metadata": {
        "id": "leOZmicAwTSn"
      },
      "source": [
        "As you can see, the Gemini 2.0 model is able to write a concise, accurate and well-structured research report for us. All the information in the report is factual and up-to-date.\n",
        "\n",
        "Note that this tutorial is meant to showcase the capability of the new search tool and inspire interesting use cases, not to build a production research report generator. If you are looking to use a tool, please check out Google [Deep Research](https://blog.google/products/gemini/google-gemini-deep-research/) in the Gemini app."
      ]
    },
    {
      "cell_type": "markdown",
      "metadata": {
        "id": "4677dd58e9b5"
      },
      "source": [
        "## Next Steps\n",
        "\n",
        "* To learn more about the search tool, check out the [Search tool documentation](https://ai.google.dev/gemini-api/docs/models/gemini-v2#search-tool).\n",
        "* To get started with streaming, check out the [Streaming Quickstart](../quickstarts/Streaming.ipynb).\n",
        "* To get started with the search tool, check out the [Search tool quick start](../quickstarts/Search_Grounding.ipynb).\n",
        "* To see how much easier and more powerful the search tool in Gemini 2.0 is than the previous search grounding feature, compare this tutorial with the [previous example](../examples/Search_grounding_for_research_report.ipynb).\n",
        "\n",
        "To learn more about all the Gemini features, check out the [Gemini quickstart notebooks](https://github.com/google-gemini/cookbook/tree/main/quickstarts/)."
      ]
    }
  ],
  "metadata": {
    "colab": {
      "collapsed_sections": [
        "lb5yiH5h8x3h"
      ],
      "name": "Search_grounding_for_research_report.ipynb",
      "provenance": [],
      "include_colab_link": true
    },
    "kernelspec": {
      "display_name": "Python 3",
      "name": "python3"
    }
  },
  "nbformat": 4,
  "nbformat_minor": 0
}